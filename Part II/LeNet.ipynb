{
  "nbformat": 4,
  "nbformat_minor": 0,
  "metadata": {
    "colab": {
      "name": "Untitled7.ipynb",
      "provenance": [],
      "collapsed_sections": [],
      "toc_visible": true
    },
    "kernelspec": {
      "name": "python3",
      "display_name": "Python 3"
    },
    "accelerator": "GPU"
  },
  "cells": [
    {
      "cell_type": "code",
      "metadata": {
        "id": "WnZ40826K8Wh",
        "colab_type": "code",
        "colab": {}
      },
      "source": [
        "import torch\n",
        "import torch.nn as nn\n",
        "import numpy as np\n",
        "import torch.nn.functional as F"
      ],
      "execution_count": 0,
      "outputs": []
    },
    {
      "cell_type": "code",
      "metadata": {
        "id": "1WxmwEvnUr72",
        "colab_type": "code",
        "colab": {}
      },
      "source": [
        "class Model(nn.Module):\n",
        "  def __init__(self):\n",
        "    super(Model,self).__init__()\n",
        "    self.fc1=nn.Linear(in_features=28*28,out_features=128,bias=True)\n",
        "    self.fc2=nn.Linear(in_features=128,out_features=64,bias=True)\n",
        "    self.fc3=nn.Linear(in_features=64,out_features=10,bias=True)\n",
        "  \n",
        "  def forward(self,x):\n",
        "    x=F.relu(self.fc1(x))\n",
        "    x=F.relu(self.fc2(x))\n",
        "    x=self.fc3(x)\n",
        "    return x"
      ],
      "execution_count": 0,
      "outputs": []
    },
    {
      "cell_type": "code",
      "metadata": {
        "id": "fUPo9k9oX-w1",
        "colab_type": "code",
        "outputId": "5210ac79-c1da-40b1-a2a7-d8fca810565b",
        "colab": {
          "base_uri": "https://localhost:8080/",
          "height": 52
        }
      },
      "source": [
        "x_input=torch.randn((28,28))\n",
        "x_input = x_input.view(-1,28*28)\n",
        "net=Model()\n",
        "print(net(x_input))"
      ],
      "execution_count": 0,
      "outputs": [
        {
          "output_type": "stream",
          "text": [
            "tensor([[-0.0344, -0.1210, -0.0763,  0.1513, -0.0514, -0.0194,  0.0246, -0.0924,\n",
            "         -0.1167,  0.1514]], grad_fn=<AddmmBackward>)\n"
          ],
          "name": "stdout"
        }
      ]
    },
    {
      "cell_type": "code",
      "metadata": {
        "id": "uL7Q0aRuXxSm",
        "colab_type": "code",
        "colab": {}
      },
      "source": [
        "class LeNet(nn.Module):\n",
        "\n",
        "  def __init__(self):\n",
        "    super(LeNet,self).__init__()\n",
        "    self.conv1=nn.Conv2d(1,6,5)\n",
        "    self.conv2=nn.Conv2d(6,16,5)\n",
        "    self.poo1=nn.MaxPool2d(2)\n",
        "    self.pool2=nn.MaxPool2d(2)\n",
        "    self.fc1=nn.Linear(16*4*4,200)\n",
        "    self.fc2=nn.Linear(200,84)\n",
        "    self.fc3=nn.Linear(84,10)\n",
        "\n",
        "  def forward(self,x):\n",
        "    x=self.poo1(F.relu(self.conv1(x),2))\n",
        "    x=self.pool2(F.relu(self.conv2(x),2))\n",
        "    x=x.view(x.shape[0],-1)\n",
        "    x=F.relu(self.fc1(x))\n",
        "    x=F.relu(self.fc2(x))\n",
        "    x=self.fc3(x)\n",
        "    x=F.softmax(x,dim=1)\n",
        "    return x"
      ],
      "execution_count": 0,
      "outputs": []
    },
    {
      "cell_type": "code",
      "metadata": {
        "id": "tQnVaRcSXuFv",
        "colab_type": "code",
        "outputId": "afb9f7d6-1960-49a8-e274-96cce0db92e2",
        "colab": {
          "base_uri": "https://localhost:8080/",
          "height": 52
        }
      },
      "source": [
        "x_input=torch.randn((1,1,28,28))\n",
        "f=LeNet()\n",
        "f(x_input)"
      ],
      "execution_count": 0,
      "outputs": [
        {
          "output_type": "execute_result",
          "data": {
            "text/plain": [
              "tensor([[0.0995, 0.0932, 0.0975, 0.0890, 0.1079, 0.1027, 0.1160, 0.0868, 0.1037,\n",
              "         0.1037]], grad_fn=<SoftmaxBackward>)"
            ]
          },
          "metadata": {
            "tags": []
          },
          "execution_count": 5
        }
      ]
    },
    {
      "cell_type": "markdown",
      "metadata": {
        "id": "cLRwc2cHa962",
        "colab_type": "text"
      },
      "source": [
        "#LeNet Explain\n",
        "1- conv2D- 6 conv kernel,  size of feature mapping is 28x28\n",
        "\n",
        "2- pool2D- outputs 6 feature  of size 12x12  \n",
        "\n",
        "3- conv2D- 16 conv kernel, size of feature mapping is 12x12 \n",
        "\n",
        "3- pool2D- outputs 16 feature  of size 4X4  \n",
        "\n",
        "4-Linear1-  400->200\n",
        "\n",
        "5-Linear2- 200->84\n",
        "\n",
        "6-Linear3- 84->10\n"
      ]
    }
  ]
}